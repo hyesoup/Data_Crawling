{
 "cells": [
  {
   "cell_type": "markdown",
   "metadata": {},
   "source": [
    "# 비정형 데이터 활용하기"
   ]
  },
  {
   "cell_type": "markdown",
   "metadata": {},
   "source": [
    "### 스크래핑 (BeautifulSoup)"
   ]
  },
  {
   "cell_type": "code",
   "execution_count": 1,
   "metadata": {},
   "outputs": [],
   "source": [
    "import requests"
   ]
  },
  {
   "cell_type": "code",
   "execution_count": 50,
   "metadata": {},
   "outputs": [
    {
     "data": {
      "text/plain": [
       "'<!DOCTYPE html>\\n<html lang=\"ko\">\\n<head>\\n  <meta charset=\"utf-8\">\\n  <meta http-equiv=\"X-UA-Compatible\" content=\"IE=edge\">\\n  <meta name=\"viewport\" content=\"width=device-width,initial-scale=1,maximum-scale=1,user-scalable=no\">\\n      <link rel=\"canonical\" href=\"https://www.daangn.com/hot_articles\" />\\n\\n  <title>당근마켓 중고거래 | 당신 근처의 당근마켓</title>\\n<meta name=\"description\" content=\"당근마켓에서 거래되는 인기 중고 매물을 소개합니다. 지금 당근마켓에서 거래되고 있는 다양한 매물을 구경해보세요.\">\\n<meta property=\"og:url\" content=\"https://www.daangn.com/hot_articles\">\\n<meta property=\"og:title\" content=\"당근마켓 중고거래 | 당신 근처의 당근마켓\">\\n<meta property=\"og:description\" content=\"당근마켓에서 거래되는 인기 중고 매물을 소개합니다. 지금 당근마켓에서 거래되고 있는 다양한 매물을 구경해보세요.\">\\n<meta property=\"og:site_name\" content=\"당근마켓\">\\n<meta property=\"og:image\" content=\"https://www.daangn.com/images/meta/home/flea_market.png\">\\n<meta property=\"og:type\" content=\"article\">\\n<meta property=\"og:locale\" content=\"ko_KR\">\\n<meta property=\"fb:app_id\" content=\"1463621440622064\">\\n<meta name=\"twitter:card\" content=\"summar'"
      ]
     },
     "execution_count": 50,
     "metadata": {},
     "output_type": "execute_result"
    }
   ],
   "source": [
    "webpage = requests.get('https://www.daangn.com/hot_articles')\n",
    "webpage.text[0:1000]"
   ]
  },
  {
   "cell_type": "markdown",
   "metadata": {},
   "source": [
    "- 필요한 텍스트만 parsing 하고 싶을 때는 BeautifulSoup"
   ]
  },
  {
   "cell_type": "code",
   "execution_count": 62,
   "metadata": {},
   "outputs": [
    {
     "data": {
      "text/plain": [
       "[<meta charset=\"utf-8\"/>,\n",
       " <meta content=\"IE=edge\" http-equiv=\"X-UA-Compatible\"/>,\n",
       " <meta content=\"width=device-width,initial-scale=1,maximum-scale=1,user-scalable=no\" name=\"viewport\"/>,\n",
       " <link href=\"https://www.daangn.com/hot_articles\" rel=\"canonical\"/>,\n",
       " <title>당근마켓 중고거래 | 당신 근처의 당근마켓</title>,\n",
       " <meta content=\"당근마켓에서 거래되는 인기 중고 매물을 소개합니다. 지금 당근마켓에서 거래되고 있는 다양한 매물을 구경해보세요.\" name=\"description\"/>,\n",
       " <meta content=\"https://www.daangn.com/hot_articles\" property=\"og:url\"/>,\n",
       " <meta content=\"당근마켓 중고거래 | 당신 근처의 당근마켓\" property=\"og:title\"/>,\n",
       " <meta content=\"당근마켓에서 거래되는 인기 중고 매물을 소개합니다. 지금 당근마켓에서 거래되고 있는 다양한 매물을 구경해보세요.\" property=\"og:description\"/>,\n",
       " <meta content=\"당근마켓\" property=\"og:site_name\"/>]"
      ]
     },
     "execution_count": 62,
     "metadata": {},
     "output_type": "execute_result"
    }
   ],
   "source": [
    "from bs4 import BeautifulSoup\n",
    "soup = BeautifulSoup(webpage.content, 'html.parser')\n",
    "soup.head()[0:10]"
   ]
  },
  {
   "cell_type": "markdown",
   "metadata": {},
   "source": [
    "#### 태그 탐색하기"
   ]
  },
  {
   "cell_type": "markdown",
   "metadata": {},
   "source": [
    "- page에서 처음 만나는 p 태그 크롤링"
   ]
  },
  {
   "cell_type": "code",
   "execution_count": 6,
   "metadata": {},
   "outputs": [
    {
     "name": "stdout",
     "output_type": "stream",
     "text": [
      "<p>당근마켓 앱에서 따뜻한 거래를 직접 경험해보세요!</p>\n"
     ]
    }
   ],
   "source": [
    "print(soup.p)"
   ]
  },
  {
   "cell_type": "markdown",
   "metadata": {},
   "source": [
    "- < p > 제거"
   ]
  },
  {
   "cell_type": "code",
   "execution_count": 32,
   "metadata": {},
   "outputs": [
    {
     "name": "stdout",
     "output_type": "stream",
     "text": [
      "당근마켓 앱에서 따뜻한 거래를 직접 경험해보세요!\n"
     ]
    }
   ],
   "source": [
    "print(soup.p.string)"
   ]
  },
  {
   "cell_type": "markdown",
   "metadata": {},
   "source": [
    "- page에서 처음 만나는 h1 태그 크롤링"
   ]
  },
  {
   "cell_type": "code",
   "execution_count": 8,
   "metadata": {},
   "outputs": [
    {
     "name": "stdout",
     "output_type": "stream",
     "text": [
      "<h1 id=\"fixed-bar-logo-title\">\n",
      "<a href=\"https://www.daangn.com/\">\n",
      "<span class=\"sr-only\">당근마켓</span>\n",
      "<img alt=\"당근마켓\" class=\"fixed-logo\" src=\"https://d1unjqcospf8gs.cloudfront.net/assets/home/base/header/logo-basic-24b18257ac4ef693c02233bf21e9cb7ecbf43ebd8d5b40c24d99e14094a44c81.svg\"/>\n",
      "</a> </h1>\n"
     ]
    }
   ],
   "source": [
    "print(soup.h1)"
   ]
  },
  {
   "cell_type": "markdown",
   "metadata": {},
   "source": [
    "- h1의 종속 태그들을 출력"
   ]
  },
  {
   "cell_type": "code",
   "execution_count": 11,
   "metadata": {},
   "outputs": [
    {
     "name": "stdout",
     "output_type": "stream",
     "text": [
      "<list_iterator object at 0x000002BB1115DDC8>\n"
     ]
    }
   ],
   "source": [
    "print(soup.h1.children)"
   ]
  },
  {
   "cell_type": "code",
   "execution_count": 9,
   "metadata": {},
   "outputs": [
    {
     "name": "stdout",
     "output_type": "stream",
     "text": [
      "\n",
      "\n",
      "<a href=\"https://www.daangn.com/\">\n",
      "<span class=\"sr-only\">당근마켓</span>\n",
      "<img alt=\"당근마켓\" class=\"fixed-logo\" src=\"https://d1unjqcospf8gs.cloudfront.net/assets/home/base/header/logo-basic-24b18257ac4ef693c02233bf21e9cb7ecbf43ebd8d5b40c24d99e14094a44c81.svg\"/>\n",
      "</a>\n",
      " \n"
     ]
    }
   ],
   "source": [
    "for child in soup.h1.children:\n",
    "    print(child)"
   ]
  },
  {
   "cell_type": "code",
   "execution_count": 88,
   "metadata": {},
   "outputs": [
    {
     "name": "stdout",
     "output_type": "stream",
     "text": [
      "\n",
      "\n",
      "<h1 id=\"fixed-bar-logo-title\">\n",
      "<a href=\"https://www.daangn.com/\">\n",
      "<span class=\"sr-only\">당근마켓</span>\n",
      "<img alt=\"당근마켓\" class=\"fixed-logo\" src=\"https://d1unjqcospf8gs.cloudfront.net/assets/home/base/header/logo-basic-24b18257ac4ef693c02233bf21e9cb7ecbf43ebd8d5b40c24d99e14094a44c81.svg\"/>\n",
      "</a> </h1>\n",
      "\n",
      "\n",
      "<section id=\"fixed-bar-search\">\n",
      "<div class=\"search-input-wrap\">\n",
      "<span class=\"sr-only\">검색</span>\n",
      "<input class=\"fixed-search-input\" id=\"header-search-input\" name=\"header-search-input\" placeholder=\"동네 이름, 물품명 등을 검색해보세요!\" type=\"text\"/>\n",
      "<button id=\"header-search-button\">\n",
      "<img alt=\"Search\" class=\"fixed-search-icon\" src=\"https://d1unjqcospf8gs.cloudfront.net/assets/home/base/header/search-icon-7008edd4f9aaa32188f55e65258f1c1905d7a9d1a3ca2a07ae809b5535380f14.svg\"/>\n",
      "</button>\n",
      "</div>\n",
      "</section>\n",
      "\n",
      "\n",
      "<section id=\"fixed-bar-download\">\n",
      "<h3 class=\"hide\">다운로드</h3>\n",
      "<a class=\"fixed-download-button\" href=\"https://itunes.apple.com/kr/app/pangyojangteo/id1018769995?l=ko&amp;ls=1&amp;mt=8\" id=\"header-download-button-ios\" target=\"_blank\">\n",
      "<img alt=\"App Store\" class=\"fixed-apple-store\" src=\"https://d1unjqcospf8gs.cloudfront.net/assets/home/base/header/apple-store-3a664174124650d63cae365bc55586fc5ff27b822b1b97788fc4af77d73d00c8.svg\"/>\n",
      "<div class=\"fixed-download-text\">App Store</div>\n",
      "</a> <a class=\"fixed-download-button\" href=\"https://play.google.com/store/apps/details?id=com.towneers.www\" id=\"header-download-button-android\" target=\"_blank\">\n",
      "<img alt=\"Google Play\" class=\"fixed-google-play\" src=\"https://d1unjqcospf8gs.cloudfront.net/assets/home/base/header/google-play-c9ad0fc573cd01e2b982df5de6709a3d8d7cec8d9b58a5c08db7da0b92a32a75.svg\"/>\n",
      "<div class=\"fixed-download-text\">Google Play</div>\n",
      "</a> </section>\n",
      "\n",
      "\n"
     ]
    }
   ],
   "source": [
    "for d in soup.div.children:\n",
    "    print(d)"
   ]
  },
  {
   "cell_type": "markdown",
   "metadata": {},
   "source": [
    "- find_all() : 원하는 부분을 모두 가져올 때 사용하는 함수"
   ]
  },
  {
   "cell_type": "markdown",
   "metadata": {},
   "source": [
    "- 모든 h2 태그를 크롤링"
   ]
  },
  {
   "cell_type": "code",
   "execution_count": 89,
   "metadata": {},
   "outputs": [
    {
     "data": {
      "text/plain": [
       "[<h2 class=\"card-title\">버팔로 캠핑의자</h2>,\n",
       " <h2 class=\"card-title\">스팸 선물세트 새것</h2>,\n",
       " <h2 class=\"card-title\">바이크 숀리 실내자전거 </h2>,\n",
       " <h2 class=\"card-title\">통돌이 세탁기 거의새거 팝니다</h2>,\n",
       " <h2 class=\"card-title\">다이슨에어랩</h2>]"
      ]
     },
     "execution_count": 89,
     "metadata": {},
     "output_type": "execute_result"
    }
   ],
   "source": [
    "soup.find_all('h2')[0:5]"
   ]
  },
  {
   "cell_type": "code",
   "execution_count": 19,
   "metadata": {},
   "outputs": [
    {
     "name": "stdout",
     "output_type": "stream",
     "text": [
      "<class 'bs4.element.ResultSet'>\n"
     ]
    }
   ],
   "source": [
    "print(type(soup.find_all('h2')))"
   ]
  },
  {
   "cell_type": "markdown",
   "metadata": {},
   "source": [
    "- 정규식을 활용할 수 있다 : re 함수"
   ]
  },
  {
   "cell_type": "code",
   "execution_count": 23,
   "metadata": {},
   "outputs": [],
   "source": [
    "import re"
   ]
  },
  {
   "cell_type": "markdown",
   "metadata": {},
   "source": [
    "- < ol > 또는 < ul > 포함하는 값을 리스트로 읽어오고 싶다면?"
   ]
  },
  {
   "cell_type": "code",
   "execution_count": 92,
   "metadata": {},
   "outputs": [
    {
     "data": {
      "text/plain": [
       "[<ul class=\"footer-list\">\n",
       " <li class=\"footer-list-item\"><a class=\"link-highlight\" href=\"/trust\">믿을 수 있는 중고거래</a></li>\n",
       " <li class=\"footer-list-item\"><a class=\"link-highlight\" href=\"/wv/faqs\">자주 묻는 질문</a></li>\n",
       " </ul>]"
      ]
     },
     "execution_count": 92,
     "metadata": {},
     "output_type": "execute_result"
    }
   ],
   "source": [
    "soup.find_all(re.compile('[ou]l'))[0:1]"
   ]
  },
  {
   "cell_type": "markdown",
   "metadata": {},
   "source": [
    "- h1~h9 태그를 가져오고 싶다면?"
   ]
  },
  {
   "cell_type": "code",
   "execution_count": 93,
   "metadata": {},
   "outputs": [
    {
     "data": {
      "text/plain": [
       "[<h1 id=\"fixed-bar-logo-title\">\n",
       " <a href=\"https://www.daangn.com/\">\n",
       " <span class=\"sr-only\">당근마켓</span>\n",
       " <img alt=\"당근마켓\" class=\"fixed-logo\" src=\"https://d1unjqcospf8gs.cloudfront.net/assets/home/base/header/logo-basic-24b18257ac4ef693c02233bf21e9cb7ecbf43ebd8d5b40c24d99e14094a44c81.svg\"/>\n",
       " </a> </h1>,\n",
       " <h3 class=\"hide\">다운로드</h3>]"
      ]
     },
     "execution_count": 93,
     "metadata": {},
     "output_type": "execute_result"
    }
   ],
   "source": [
    "soup.find_all(re.compile('h[1-9]'))[0:2]"
   ]
  },
  {
   "cell_type": "markdown",
   "metadata": {},
   "source": [
    "- 하나 이상의 태그를 가져오고 싶다면?"
   ]
  },
  {
   "cell_type": "code",
   "execution_count": 94,
   "metadata": {},
   "outputs": [
    {
     "data": {
      "text/plain": [
       "[<h1 id=\"fixed-bar-logo-title\">\n",
       " <a href=\"https://www.daangn.com/\">\n",
       " <span class=\"sr-only\">당근마켓</span>\n",
       " <img alt=\"당근마켓\" class=\"fixed-logo\" src=\"https://d1unjqcospf8gs.cloudfront.net/assets/home/base/header/logo-basic-24b18257ac4ef693c02233bf21e9cb7ecbf43ebd8d5b40c24d99e14094a44c81.svg\"/>\n",
       " </a> </h1>,\n",
       " <h1 class=\"head-title\" id=\"hot-articles-head-title\">\n",
       "     \n",
       "     \n",
       "     중고거래 인기매물\n",
       "   </h1>]"
      ]
     },
     "execution_count": 94,
     "metadata": {},
     "output_type": "execute_result"
    }
   ],
   "source": [
    "soup.find_all(['h1','p'])[0:2]"
   ]
  },
  {
   "cell_type": "markdown",
   "metadata": {},
   "source": [
    "- 속성을 통해서 접근하기"
   ]
  },
  {
   "cell_type": "code",
   "execution_count": 98,
   "metadata": {},
   "outputs": [
    {
     "data": {
      "text/plain": [
       "[<nav id=\"hot-articles-navigation\">\n",
       " <select class=\"hot-articles-nav-select\" id=\"region1\" name=\"region1\" onchange=\"changeRegion('r1', this.value)\"><option value=\"\">지역을 선택하세요</option><option value=\"서울특별시\">서울특별시</option>\n",
       " <option value=\"부산광역시\">부산광역시</option>\n",
       " <option value=\"대구광역시\">대구광역시</option>\n",
       " <option value=\"인천광역시\">인천광역시</option>\n",
       " <option value=\"광주광역시\">광주광역시</option>\n",
       " <option value=\"대전광역시\">대전광역시</option>\n",
       " <option value=\"울산광역시\">울산광역시</option>\n",
       " <option value=\"세종특별자치시\">세종특별자치시</option>\n",
       " <option value=\"경기도\">경기도</option>\n",
       " <option value=\"강원도\">강원도</option>\n",
       " <option value=\"충청북도\">충청북도</option>\n",
       " <option value=\"충청남도\">충청남도</option>\n",
       " <option value=\"전라북도\">전라북도</option>\n",
       " <option value=\"전라남도\">전라남도</option>\n",
       " <option value=\"경상북도\">경상북도</option>\n",
       " <option value=\"경상남도\">경상남도</option>\n",
       " <option value=\"제주특별자치도\">제주특별자치도</option></select>\n",
       " <select class=\"hot-articles-nav-select\" disabled=\"disabled\" id=\"region2\" name=\"region2\" onchange=\"changeRegion('r2', this.value)\"><option value=\"\">동네를 선택하세요</option><option value=\"서울특별시\">서울특별시</option>\n",
       " <option value=\"부산광역시\">부산광역시</option>\n",
       " <option value=\"대구광역시\">대구광역시</option>\n",
       " <option value=\"인천광역시\">인천광역시</option>\n",
       " <option value=\"광주광역시\">광주광역시</option>\n",
       " <option value=\"대전광역시\">대전광역시</option>\n",
       " <option value=\"울산광역시\">울산광역시</option>\n",
       " <option value=\"세종특별자치시\">세종특별자치시</option>\n",
       " <option value=\"경기도\">경기도</option>\n",
       " <option value=\"강원도\">강원도</option>\n",
       " <option value=\"충청북도\">충청북도</option>\n",
       " <option value=\"충청남도\">충청남도</option>\n",
       " <option value=\"전라북도\">전라북도</option>\n",
       " <option value=\"전라남도\">전라남도</option>\n",
       " <option value=\"경상북도\">경상북도</option>\n",
       " <option value=\"경상남도\">경상남도</option>\n",
       " <option value=\"제주특별자치도\">제주특별자치도</option></select>\n",
       " </nav>]"
      ]
     },
     "execution_count": 98,
     "metadata": {},
     "output_type": "execute_result"
    }
   ],
   "source": [
    "soup.select('#hot-articles-navigation')"
   ]
  },
  {
   "cell_type": "code",
   "execution_count": 99,
   "metadata": {},
   "outputs": [
    {
     "data": {
      "text/plain": [
       "[<h2 class=\"card-title\">버팔로 캠핑의자</h2>,\n",
       " <h2 class=\"card-title\">스팸 선물세트 새것</h2>,\n",
       " <h2 class=\"card-title\">바이크 숀리 실내자전거 </h2>,\n",
       " <h2 class=\"card-title\">통돌이 세탁기 거의새거 팝니다</h2>,\n",
       " <h2 class=\"card-title\">다이슨에어랩</h2>]"
      ]
     },
     "execution_count": 99,
     "metadata": {},
     "output_type": "execute_result"
    }
   ],
   "source": [
    "soup.find_all(attrs = {'class':'card-title'})[0:5]"
   ]
  },
  {
   "cell_type": "code",
   "execution_count": 100,
   "metadata": {},
   "outputs": [
    {
     "data": {
      "text/plain": [
       "[<h2 class=\"card-title\">버팔로 캠핑의자</h2>,\n",
       " <h2 class=\"card-title\">스팸 선물세트 새것</h2>,\n",
       " <h2 class=\"card-title\">바이크 숀리 실내자전거 </h2>,\n",
       " <h2 class=\"card-title\">통돌이 세탁기 거의새거 팝니다</h2>,\n",
       " <h2 class=\"card-title\">다이슨에어랩</h2>]"
      ]
     },
     "execution_count": 100,
     "metadata": {},
     "output_type": "execute_result"
    }
   ],
   "source": [
    "soup.select('.card-title')[0:5]"
   ]
  },
  {
   "cell_type": "code",
   "execution_count": 41,
   "metadata": {},
   "outputs": [
    {
     "name": "stdout",
     "output_type": "stream",
     "text": [
      "버팔로 캠핑의자\n",
      "스팸 선물세트 새것\n",
      "다이슨에어랩\n",
      "콜맨 캠핑 침낭 급처\n",
      "통돌이 세탁기 거의새거 팝니다\n",
      "스팸세트팔아요\n",
      "삼성 갤럭시 탭4\n",
      "TV\n",
      "제습기\n",
      "플레이스테이션3\n"
     ]
    }
   ],
   "source": [
    "for idx in range(0,10):\n",
    "    print(soup.select('.card-title')[idx].get_text())"
   ]
  },
  {
   "cell_type": "code",
   "execution_count": 42,
   "metadata": {},
   "outputs": [
    {
     "name": "stdout",
     "output_type": "stream",
     "text": [
      "버팔로 캠핑의자\n",
      "스팸 선물세트 새것\n",
      "다이슨에어랩\n",
      "콜맨 캠핑 침낭 급처\n",
      "통돌이 세탁기 거의새거 팝니다\n",
      "스팸세트팔아요\n",
      "삼성 갤럭시 탭4\n",
      "TV\n",
      "제습기\n",
      "플레이스테이션3\n"
     ]
    }
   ],
   "source": [
    "for idx in range(0,10):\n",
    "    print(soup.select('.card-title')[idx].string)"
   ]
  },
  {
   "cell_type": "markdown",
   "metadata": {},
   "source": [
    "- 한글 폰트 문제 해결"
   ]
  },
  {
   "cell_type": "code",
   "execution_count": 43,
   "metadata": {},
   "outputs": [],
   "source": [
    "import platform\n",
    "\n",
    "from matplotlib import font_manager, rc\n",
    "# plt.rcParams['axes.unicode_minus'] = False\n",
    "\n",
    "if platform.system() == 'Darwin':\n",
    "    rc('font', family='AppleGothic')\n",
    "elif platform.system() == 'Windows':\n",
    "    path = \"c:/Windows/Fonts/malgun.ttf\"\n",
    "    font_name = font_manager.FontProperties(fname=path).get_name()\n",
    "    rc('font', family=font_name)\n",
    "else:\n",
    "    print('Unknown system... sorry~~~~') \n"
   ]
  },
  {
   "cell_type": "markdown",
   "metadata": {},
   "source": [
    "### url을 가져오는 다른 방법"
   ]
  },
  {
   "cell_type": "code",
   "execution_count": 44,
   "metadata": {},
   "outputs": [],
   "source": [
    "from urllib.request import urlopen\n",
    "from bs4 import BeautifulSoup"
   ]
  },
  {
   "cell_type": "code",
   "execution_count": 46,
   "metadata": {},
   "outputs": [],
   "source": [
    "html = urlopen('https://www.daangn.com/hot_articles')\n",
    "soup = BeautifulSoup(html.read(), 'html.parser')"
   ]
  },
  {
   "cell_type": "code",
   "execution_count": 47,
   "metadata": {},
   "outputs": [
    {
     "name": "stdout",
     "output_type": "stream",
     "text": [
      "<h1 id=\"fixed-bar-logo-title\">\n",
      "<a href=\"https://www.daangn.com/\">\n",
      "<span class=\"sr-only\">당근마켓</span>\n",
      "<img alt=\"당근마켓\" class=\"fixed-logo\" src=\"https://d1unjqcospf8gs.cloudfront.net/assets/home/base/header/logo-basic-24b18257ac4ef693c02233bf21e9cb7ecbf43ebd8d5b40c24d99e14094a44c81.svg\"/>\n",
      "</a> </h1>\n"
     ]
    }
   ],
   "source": [
    "print(soup.h1)"
   ]
  },
  {
   "cell_type": "markdown",
   "metadata": {},
   "source": [
    "- 오류 해결한 뒤 크롤링하기"
   ]
  },
  {
   "cell_type": "code",
   "execution_count": 67,
   "metadata": {},
   "outputs": [],
   "source": [
    "from urllib.request import urlopen\n",
    "from urllib.error import HTTPError, URLError"
   ]
  },
  {
   "cell_type": "code",
   "execution_count": 148,
   "metadata": {},
   "outputs": [
    {
     "name": "stdout",
     "output_type": "stream",
     "text": [
      "정상 실행 중~\n"
     ]
    }
   ],
   "source": [
    "try:\n",
    "    html = urlopen('https://www.daangn.com/hot_articles')\n",
    "except HTTPError as he:\n",
    "    print('http error')\n",
    "except URLError as ue:\n",
    "    print('url error')\n",
    "else : \n",
    "    soup= BeautifulSoup(html.read(), 'html.parser')\n",
    "    print('정상 실행 중~')"
   ]
  },
  {
   "cell_type": "markdown",
   "metadata": {},
   "source": [
    "### 예제 페이지로 실습 1"
   ]
  },
  {
   "cell_type": "code",
   "execution_count": 101,
   "metadata": {},
   "outputs": [],
   "source": [
    "from urllib.request import urlopen\n",
    "from urllib.error import HTTPError, URLError\n",
    "from bs4 import BeautifulSoup"
   ]
  },
  {
   "cell_type": "code",
   "execution_count": 147,
   "metadata": {},
   "outputs": [
    {
     "name": "stdout",
     "output_type": "stream",
     "text": [
      "정상 실행 중~\n"
     ]
    }
   ],
   "source": [
    "try:\n",
    "    html = urlopen('http://www.pythonscraping.com/pages/page3.html')\n",
    "except HTTPError as he:\n",
    "    print('http error')\n",
    "except URLError as ue:\n",
    "    print('url error')\n",
    "else : \n",
    "    soup= BeautifulSoup(html.read(), 'html.parser')\n",
    "    print('정상 실행 중~')"
   ]
  },
  {
   "cell_type": "code",
   "execution_count": 168,
   "metadata": {},
   "outputs": [
    {
     "ename": "AttributeError",
     "evalue": "'NoneType' object has no attribute 'tr'",
     "output_type": "error",
     "traceback": [
      "\u001b[1;31m---------------------------------------------------------------------------\u001b[0m",
      "\u001b[1;31mAttributeError\u001b[0m                            Traceback (most recent call last)",
      "\u001b[1;32m<ipython-input-168-13c46c48d5e8>\u001b[0m in \u001b[0;36m<module>\u001b[1;34m\u001b[0m\n\u001b[1;32m----> 1\u001b[1;33m \u001b[1;32mfor\u001b[0m \u001b[0mchild\u001b[0m \u001b[1;32min\u001b[0m \u001b[0msoup\u001b[0m\u001b[1;33m.\u001b[0m\u001b[0mfind\u001b[0m\u001b[1;33m(\u001b[0m\u001b[1;34m'table'\u001b[0m\u001b[1;33m,\u001b[0m \u001b[1;33m{\u001b[0m\u001b[1;34m'id'\u001b[0m \u001b[1;33m:\u001b[0m \u001b[1;34m'giftList'\u001b[0m\u001b[1;33m}\u001b[0m\u001b[1;33m)\u001b[0m\u001b[1;33m.\u001b[0m\u001b[0mtr\u001b[0m\u001b[1;33m:\u001b[0m\u001b[1;33m\u001b[0m\u001b[1;33m\u001b[0m\u001b[0m\n\u001b[0m\u001b[0;32m      2\u001b[0m     \u001b[0mprint\u001b[0m\u001b[1;33m(\u001b[0m\u001b[0mchild\u001b[0m\u001b[1;33m)\u001b[0m\u001b[1;33m\u001b[0m\u001b[1;33m\u001b[0m\u001b[0m\n",
      "\u001b[1;31mAttributeError\u001b[0m: 'NoneType' object has no attribute 'tr'"
     ]
    }
   ],
   "source": [
    "for child in soup.find('table', {'id' : 'giftList'}).tr:\n",
    "    print(child)"
   ]
  },
  {
   "cell_type": "code",
   "execution_count": 115,
   "metadata": {},
   "outputs": [
    {
     "name": "stdout",
     "output_type": "stream",
     "text": [
      "\n",
      "\n",
      "<tr class=\"gift\" id=\"gift1\"><td>\n",
      "Vegetable Basket\n",
      "</td><td>\n",
      "This vegetable basket is the perfect gift for your health conscious (or overweight) friends!\n",
      "<span class=\"excitingNote\">Now with super-colorful bell peppers!</span>\n",
      "</td><td>\n",
      "$15.00\n",
      "</td><td>\n",
      "<img src=\"../img/gifts/img1.jpg\"/>\n",
      "</td></tr>\n",
      "\n",
      "\n",
      "<tr class=\"gift\" id=\"gift2\"><td>\n",
      "Russian Nesting Dolls\n",
      "</td><td>\n",
      "Hand-painted by trained monkeys, these exquisite dolls are priceless! And by \"priceless,\" we mean \"extremely expensive\"! <span class=\"excitingNote\">8 entire dolls per set! Octuple the presents!</span>\n",
      "</td><td>\n",
      "$10,000.52\n",
      "</td><td>\n",
      "<img src=\"../img/gifts/img2.jpg\"/>\n",
      "</td></tr>\n",
      "\n",
      "\n",
      "<tr class=\"gift\" id=\"gift3\"><td>\n",
      "Fish Painting\n",
      "</td><td>\n",
      "If something seems fishy about this painting, it's because it's a fish! <span class=\"excitingNote\">Also hand-painted by trained monkeys!</span>\n",
      "</td><td>\n",
      "$10,005.00\n",
      "</td><td>\n",
      "<img src=\"../img/gifts/img3.jpg\"/>\n",
      "</td></tr>\n",
      "\n",
      "\n",
      "<tr class=\"gift\" id=\"gift4\"><td>\n",
      "Dead Parrot\n",
      "</td><td>\n",
      "This is an ex-parrot! <span class=\"excitingNote\">Or maybe he's only resting?</span>\n",
      "</td><td>\n",
      "$0.50\n",
      "</td><td>\n",
      "<img src=\"../img/gifts/img4.jpg\"/>\n",
      "</td></tr>\n",
      "\n",
      "\n",
      "<tr class=\"gift\" id=\"gift5\"><td>\n",
      "Mystery Box\n",
      "</td><td>\n",
      "If you love suprises, this mystery box is for you! Do not place on light-colored surfaces. May cause oil staining. <span class=\"excitingNote\">Keep your friends guessing!</span>\n",
      "</td><td>\n",
      "$1.50\n",
      "</td><td>\n",
      "<img src=\"../img/gifts/img6.jpg\"/>\n",
      "</td></tr>\n",
      "\n",
      "\n"
     ]
    }
   ],
   "source": [
    "for child in soup.find('table', {'id' : 'giftList'}).tr.next_siblings:\n",
    "    print(child)"
   ]
  },
  {
   "cell_type": "markdown",
   "metadata": {},
   "source": []
  },
  {
   "cell_type": "markdown",
   "metadata": {},
   "source": [
    "### 실습2"
   ]
  },
  {
   "cell_type": "code",
   "execution_count": 146,
   "metadata": {},
   "outputs": [
    {
     "name": "stdout",
     "output_type": "stream",
     "text": [
      "정상 실행중~\n"
     ]
    }
   ],
   "source": [
    "from urllib.request import urlopen\n",
    "from urllib.error import HTTPError, URLError\n",
    "from bs4 import BeautifulSoup\n",
    "\n",
    "try:\n",
    "    html = urlopen('https://forecast.weather.gov/MapClick.php?lat=37.7772&lon=-122.4168#.X21Im2gzaUm')\n",
    "except HTTPError as he:\n",
    "    print('http error')\n",
    "except URLError as ue:\n",
    "    print('url error')\n",
    "else : \n",
    "    soup= BeautifulSoup(html.read(), 'html.parser')\n",
    "    print('정상 실행중~')"
   ]
  },
  {
   "cell_type": "markdown",
   "metadata": {},
   "source": [
    "find_all로 class를 찾을 때는 class_라고 써야함  \n",
    "class로 쓰면 python의 키워드로 인식함!!"
   ]
  },
  {
   "cell_type": "code",
   "execution_count": 132,
   "metadata": {},
   "outputs": [
    {
     "data": {
      "text/plain": [
       "<div class=\"tombstone-container\">\n",
       "<p class=\"period-name\">NOW until<br/>7:00pm Mon</p>\n",
       "<p><img alt=\"\" class=\"forecast-icon\" src=\"newimages/medium/hz.png\" title=\"\"/></p><p class=\"short-desc\">Heat Advisory</p></div>"
      ]
     },
     "execution_count": 132,
     "metadata": {},
     "output_type": "execute_result"
    }
   ],
   "source": [
    "sevenDays = soup.find(id='seven-day-forecast')\n",
    "forecast = sevenDays.find_all(class_ = 'tombstone-container')\n",
    "forecast[0]"
   ]
  },
  {
   "cell_type": "code",
   "execution_count": 135,
   "metadata": {},
   "outputs": [
    {
     "data": {
      "text/plain": [
       "'NOW until7:00pm Mon'"
      ]
     },
     "execution_count": 135,
     "metadata": {},
     "output_type": "execute_result"
    }
   ],
   "source": [
    "period = forecast[0].find(class_ = 'period-name').get_text()\n",
    "period"
   ]
  },
  {
   "cell_type": "code",
   "execution_count": 137,
   "metadata": {},
   "outputs": [
    {
     "data": {
      "text/plain": [
       "'Heat Advisory'"
      ]
     },
     "execution_count": 137,
     "metadata": {},
     "output_type": "execute_result"
    }
   ],
   "source": [
    "short_desc = forecast[0].find(class_='short-desc').get_text()\n",
    "short_desc"
   ]
  },
  {
   "cell_type": "code",
   "execution_count": 139,
   "metadata": {},
   "outputs": [
    {
     "data": {
      "text/plain": [
       "'newimages/medium/hz.png'"
      ]
     },
     "execution_count": 139,
     "metadata": {},
     "output_type": "execute_result"
    }
   ],
   "source": [
    "img = forecast[0].find('img')\n",
    "img_src = img['src']\n",
    "img_src"
   ]
  },
  {
   "cell_type": "code",
   "execution_count": 140,
   "metadata": {},
   "outputs": [],
   "source": [
    "sevenDays = soup.select('#seven-day-forecast')"
   ]
  },
  {
   "cell_type": "markdown",
   "metadata": {},
   "source": [
    "- 필요한 기상정보 전체를 가져오기"
   ]
  },
  {
   "cell_type": "code",
   "execution_count": 142,
   "metadata": {},
   "outputs": [
    {
     "data": {
      "text/plain": [
       "[<p class=\"period-name\">NOW until<br/>7:00pm Mon</p>,\n",
       " <p class=\"period-name\">Tonight<br/><br/></p>,\n",
       " <p class=\"period-name\">Monday<br/><br/></p>,\n",
       " <p class=\"period-name\">Monday<br/>Night</p>,\n",
       " <p class=\"period-name\">Tuesday<br/><br/></p>,\n",
       " <p class=\"period-name\">Tuesday<br/>Night</p>,\n",
       " <p class=\"period-name\">Wednesday<br/><br/></p>,\n",
       " <p class=\"period-name\">Wednesday<br/>Night</p>,\n",
       " <p class=\"period-name\">Thursday<br/><br/></p>]"
      ]
     },
     "execution_count": 142,
     "metadata": {},
     "output_type": "execute_result"
    }
   ],
   "source": [
    "sevenDays = soup.find(id='seven-day-forecast')\n",
    "periods = sevenDays.select('.tombstone-container .period-name')\n",
    "periods"
   ]
  },
  {
   "cell_type": "code",
   "execution_count": 156,
   "metadata": {},
   "outputs": [
    {
     "data": {
      "text/plain": [
       "['NOW until7:00pm Mon',\n",
       " 'Tonight',\n",
       " 'Monday',\n",
       " 'MondayNight',\n",
       " 'Tuesday',\n",
       " 'TuesdayNight',\n",
       " 'Wednesday',\n",
       " 'WednesdayNight',\n",
       " 'Thursday']"
      ]
     },
     "execution_count": 156,
     "metadata": {},
     "output_type": "execute_result"
    }
   ],
   "source": [
    "periods_text = [text.get_text() for text in periods]\n",
    "periods_text"
   ]
  },
  {
   "cell_type": "code",
   "execution_count": 149,
   "metadata": {},
   "outputs": [
    {
     "data": {
      "text/plain": [
       "[<p class=\"short-desc\">Heat Advisory</p>,\n",
       " <p class=\"short-desc\">Haze</p>,\n",
       " <p class=\"short-desc\">Haze</p>,\n",
       " <p class=\"short-desc\">Haze then<br/>Mostly Clear</p>,\n",
       " <p class=\"short-desc\">Sunny</p>,\n",
       " <p class=\"short-desc\">Mostly Clear</p>,\n",
       " <p class=\"short-desc\">Sunny</p>,\n",
       " <p class=\"short-desc\">Mostly Clear</p>,\n",
       " <p class=\"short-desc\">Sunny</p>]"
      ]
     },
     "execution_count": 149,
     "metadata": {},
     "output_type": "execute_result"
    }
   ],
   "source": [
    "descs = sevenDays.select('.tombstone-container .short-desc')\n",
    "descs"
   ]
  },
  {
   "cell_type": "code",
   "execution_count": 150,
   "metadata": {},
   "outputs": [
    {
     "data": {
      "text/plain": [
       "['Heat Advisory',\n",
       " 'Haze',\n",
       " 'Haze',\n",
       " 'Haze thenMostly Clear',\n",
       " 'Sunny',\n",
       " 'Mostly Clear',\n",
       " 'Sunny',\n",
       " 'Mostly Clear',\n",
       " 'Sunny']"
      ]
     },
     "execution_count": 150,
     "metadata": {},
     "output_type": "execute_result"
    }
   ],
   "source": [
    "desc_text = [text.get_text() for text in descs]\n",
    "desc_text"
   ]
  },
  {
   "cell_type": "code",
   "execution_count": 160,
   "metadata": {},
   "outputs": [
    {
     "data": {
      "text/plain": [
       "['Low: 66 °F',\n",
       " 'High: 93 °F',\n",
       " 'Low: 62 °F',\n",
       " 'High: 79 °F',\n",
       " 'Low: 59 °F',\n",
       " 'High: 78 °F',\n",
       " 'Low: 60 °F',\n",
       " 'High: 77 °F']"
      ]
     },
     "execution_count": 160,
     "metadata": {},
     "output_type": "execute_result"
    }
   ],
   "source": [
    "temp_text = [text.get_text() for text in sevenDays.select('.tombstone-container .temp')]\n",
    "temp_text"
   ]
  },
  {
   "cell_type": "code",
   "execution_count": 161,
   "metadata": {},
   "outputs": [],
   "source": [
    "temp_text.append('High: 77 °F')"
   ]
  },
  {
   "cell_type": "code",
   "execution_count": 162,
   "metadata": {},
   "outputs": [
    {
     "name": "stdout",
     "output_type": "stream",
     "text": [
      "9\n",
      "9\n",
      "9\n"
     ]
    }
   ],
   "source": [
    "print(len(periods_text))\n",
    "print(len(desc_text))\n",
    "print(len(temp_text))"
   ]
  },
  {
   "cell_type": "markdown",
   "metadata": {},
   "source": [
    "- DataFrame화"
   ]
  },
  {
   "cell_type": "code",
   "execution_count": 163,
   "metadata": {},
   "outputs": [],
   "source": [
    "import pandas as pd"
   ]
  },
  {
   "cell_type": "code",
   "execution_count": 165,
   "metadata": {},
   "outputs": [
    {
     "data": {
      "text/html": [
       "<div>\n",
       "<style scoped>\n",
       "    .dataframe tbody tr th:only-of-type {\n",
       "        vertical-align: middle;\n",
       "    }\n",
       "\n",
       "    .dataframe tbody tr th {\n",
       "        vertical-align: top;\n",
       "    }\n",
       "\n",
       "    .dataframe thead th {\n",
       "        text-align: right;\n",
       "    }\n",
       "</style>\n",
       "<table border=\"1\" class=\"dataframe\">\n",
       "  <thead>\n",
       "    <tr style=\"text-align: right;\">\n",
       "      <th></th>\n",
       "      <th>period</th>\n",
       "      <th>desc</th>\n",
       "      <th>temp_text</th>\n",
       "    </tr>\n",
       "  </thead>\n",
       "  <tbody>\n",
       "    <tr>\n",
       "      <th>0</th>\n",
       "      <td>NOW until7:00pm Mon</td>\n",
       "      <td>Heat Advisory</td>\n",
       "      <td>Low: 66 °F</td>\n",
       "    </tr>\n",
       "    <tr>\n",
       "      <th>1</th>\n",
       "      <td>Tonight</td>\n",
       "      <td>Haze</td>\n",
       "      <td>High: 93 °F</td>\n",
       "    </tr>\n",
       "    <tr>\n",
       "      <th>2</th>\n",
       "      <td>Monday</td>\n",
       "      <td>Haze</td>\n",
       "      <td>Low: 62 °F</td>\n",
       "    </tr>\n",
       "    <tr>\n",
       "      <th>3</th>\n",
       "      <td>MondayNight</td>\n",
       "      <td>Haze thenMostly Clear</td>\n",
       "      <td>High: 79 °F</td>\n",
       "    </tr>\n",
       "    <tr>\n",
       "      <th>4</th>\n",
       "      <td>Tuesday</td>\n",
       "      <td>Sunny</td>\n",
       "      <td>Low: 59 °F</td>\n",
       "    </tr>\n",
       "    <tr>\n",
       "      <th>5</th>\n",
       "      <td>TuesdayNight</td>\n",
       "      <td>Mostly Clear</td>\n",
       "      <td>High: 78 °F</td>\n",
       "    </tr>\n",
       "    <tr>\n",
       "      <th>6</th>\n",
       "      <td>Wednesday</td>\n",
       "      <td>Sunny</td>\n",
       "      <td>Low: 60 °F</td>\n",
       "    </tr>\n",
       "    <tr>\n",
       "      <th>7</th>\n",
       "      <td>WednesdayNight</td>\n",
       "      <td>Mostly Clear</td>\n",
       "      <td>High: 77 °F</td>\n",
       "    </tr>\n",
       "    <tr>\n",
       "      <th>8</th>\n",
       "      <td>Thursday</td>\n",
       "      <td>Sunny</td>\n",
       "      <td>High: 77 °F</td>\n",
       "    </tr>\n",
       "  </tbody>\n",
       "</table>\n",
       "</div>"
      ],
      "text/plain": [
       "                period                   desc    temp_text\n",
       "0  NOW until7:00pm Mon          Heat Advisory   Low: 66 °F\n",
       "1              Tonight                   Haze  High: 93 °F\n",
       "2               Monday                   Haze   Low: 62 °F\n",
       "3          MondayNight  Haze thenMostly Clear  High: 79 °F\n",
       "4              Tuesday                  Sunny   Low: 59 °F\n",
       "5         TuesdayNight           Mostly Clear  High: 78 °F\n",
       "6            Wednesday                  Sunny   Low: 60 °F\n",
       "7       WednesdayNight           Mostly Clear  High: 77 °F\n",
       "8             Thursday                  Sunny  High: 77 °F"
      ]
     },
     "execution_count": 165,
     "metadata": {},
     "output_type": "execute_result"
    }
   ],
   "source": [
    "forecast_df = pd.DataFrame({'period' : periods_text, 'desc' : desc_text, 'temp_text' : temp_text})\n",
    "forecast_df"
   ]
  },
  {
   "cell_type": "markdown",
   "metadata": {},
   "source": [
    "- Jupyter Home에 저장"
   ]
  },
  {
   "cell_type": "code",
   "execution_count": 166,
   "metadata": {},
   "outputs": [
    {
     "name": "stdout",
     "output_type": "stream",
     "text": [
      "success\n"
     ]
    }
   ],
   "source": [
    "forecast_df.to_csv('forecast_df.csv', mode='w', encoding='utf-8')\n",
    "print('success')"
   ]
  },
  {
   "cell_type": "code",
   "execution_count": null,
   "metadata": {},
   "outputs": [],
   "source": []
  },
  {
   "cell_type": "code",
   "execution_count": null,
   "metadata": {},
   "outputs": [],
   "source": []
  },
  {
   "cell_type": "code",
   "execution_count": null,
   "metadata": {},
   "outputs": [],
   "source": []
  },
  {
   "cell_type": "code",
   "execution_count": null,
   "metadata": {},
   "outputs": [],
   "source": []
  },
  {
   "cell_type": "code",
   "execution_count": null,
   "metadata": {},
   "outputs": [],
   "source": []
  },
  {
   "cell_type": "code",
   "execution_count": null,
   "metadata": {},
   "outputs": [],
   "source": []
  },
  {
   "cell_type": "code",
   "execution_count": null,
   "metadata": {},
   "outputs": [],
   "source": []
  },
  {
   "cell_type": "code",
   "execution_count": null,
   "metadata": {},
   "outputs": [],
   "source": []
  },
  {
   "cell_type": "code",
   "execution_count": null,
   "metadata": {},
   "outputs": [],
   "source": []
  },
  {
   "cell_type": "code",
   "execution_count": null,
   "metadata": {},
   "outputs": [],
   "source": []
  },
  {
   "cell_type": "code",
   "execution_count": null,
   "metadata": {},
   "outputs": [],
   "source": []
  },
  {
   "cell_type": "code",
   "execution_count": null,
   "metadata": {},
   "outputs": [],
   "source": []
  },
  {
   "cell_type": "code",
   "execution_count": null,
   "metadata": {},
   "outputs": [],
   "source": []
  },
  {
   "cell_type": "code",
   "execution_count": null,
   "metadata": {},
   "outputs": [],
   "source": []
  },
  {
   "cell_type": "code",
   "execution_count": null,
   "metadata": {},
   "outputs": [],
   "source": []
  },
  {
   "cell_type": "code",
   "execution_count": null,
   "metadata": {},
   "outputs": [],
   "source": []
  },
  {
   "cell_type": "code",
   "execution_count": null,
   "metadata": {},
   "outputs": [],
   "source": []
  },
  {
   "cell_type": "code",
   "execution_count": null,
   "metadata": {},
   "outputs": [],
   "source": []
  },
  {
   "cell_type": "code",
   "execution_count": null,
   "metadata": {},
   "outputs": [],
   "source": []
  },
  {
   "cell_type": "code",
   "execution_count": null,
   "metadata": {},
   "outputs": [],
   "source": []
  },
  {
   "cell_type": "code",
   "execution_count": null,
   "metadata": {},
   "outputs": [],
   "source": []
  },
  {
   "cell_type": "code",
   "execution_count": null,
   "metadata": {},
   "outputs": [],
   "source": []
  },
  {
   "cell_type": "code",
   "execution_count": null,
   "metadata": {},
   "outputs": [],
   "source": []
  },
  {
   "cell_type": "code",
   "execution_count": null,
   "metadata": {},
   "outputs": [],
   "source": []
  },
  {
   "cell_type": "code",
   "execution_count": null,
   "metadata": {},
   "outputs": [],
   "source": []
  },
  {
   "cell_type": "code",
   "execution_count": null,
   "metadata": {},
   "outputs": [],
   "source": []
  },
  {
   "cell_type": "code",
   "execution_count": null,
   "metadata": {},
   "outputs": [],
   "source": []
  },
  {
   "cell_type": "code",
   "execution_count": null,
   "metadata": {},
   "outputs": [],
   "source": []
  },
  {
   "cell_type": "code",
   "execution_count": null,
   "metadata": {},
   "outputs": [],
   "source": []
  },
  {
   "cell_type": "code",
   "execution_count": null,
   "metadata": {},
   "outputs": [],
   "source": []
  },
  {
   "cell_type": "code",
   "execution_count": null,
   "metadata": {},
   "outputs": [],
   "source": []
  },
  {
   "cell_type": "code",
   "execution_count": null,
   "metadata": {},
   "outputs": [],
   "source": []
  },
  {
   "cell_type": "code",
   "execution_count": null,
   "metadata": {},
   "outputs": [],
   "source": []
  },
  {
   "cell_type": "code",
   "execution_count": null,
   "metadata": {},
   "outputs": [],
   "source": []
  },
  {
   "cell_type": "code",
   "execution_count": null,
   "metadata": {},
   "outputs": [],
   "source": []
  },
  {
   "cell_type": "code",
   "execution_count": null,
   "metadata": {},
   "outputs": [],
   "source": []
  },
  {
   "cell_type": "code",
   "execution_count": null,
   "metadata": {},
   "outputs": [],
   "source": []
  },
  {
   "cell_type": "code",
   "execution_count": null,
   "metadata": {},
   "outputs": [],
   "source": []
  },
  {
   "cell_type": "code",
   "execution_count": null,
   "metadata": {},
   "outputs": [],
   "source": []
  },
  {
   "cell_type": "code",
   "execution_count": null,
   "metadata": {},
   "outputs": [],
   "source": []
  },
  {
   "cell_type": "code",
   "execution_count": null,
   "metadata": {},
   "outputs": [],
   "source": []
  },
  {
   "cell_type": "code",
   "execution_count": null,
   "metadata": {},
   "outputs": [],
   "source": []
  },
  {
   "cell_type": "code",
   "execution_count": null,
   "metadata": {},
   "outputs": [],
   "source": []
  },
  {
   "cell_type": "code",
   "execution_count": null,
   "metadata": {},
   "outputs": [],
   "source": []
  },
  {
   "cell_type": "code",
   "execution_count": null,
   "metadata": {},
   "outputs": [],
   "source": []
  },
  {
   "cell_type": "code",
   "execution_count": null,
   "metadata": {},
   "outputs": [],
   "source": []
  },
  {
   "cell_type": "code",
   "execution_count": null,
   "metadata": {},
   "outputs": [],
   "source": []
  },
  {
   "cell_type": "code",
   "execution_count": null,
   "metadata": {},
   "outputs": [],
   "source": []
  },
  {
   "cell_type": "code",
   "execution_count": null,
   "metadata": {},
   "outputs": [],
   "source": []
  },
  {
   "cell_type": "code",
   "execution_count": null,
   "metadata": {},
   "outputs": [],
   "source": []
  },
  {
   "cell_type": "code",
   "execution_count": null,
   "metadata": {},
   "outputs": [],
   "source": []
  },
  {
   "cell_type": "code",
   "execution_count": null,
   "metadata": {},
   "outputs": [],
   "source": []
  },
  {
   "cell_type": "code",
   "execution_count": null,
   "metadata": {},
   "outputs": [],
   "source": []
  }
 ],
 "metadata": {
  "kernelspec": {
   "display_name": "Python 3",
   "language": "python",
   "name": "python3"
  },
  "language_info": {
   "codemirror_mode": {
    "name": "ipython",
    "version": 3
   },
   "file_extension": ".py",
   "mimetype": "text/x-python",
   "name": "python",
   "nbconvert_exporter": "python",
   "pygments_lexer": "ipython3",
   "version": "3.7.6"
  }
 },
 "nbformat": 4,
 "nbformat_minor": 4
}
