{
 "cells": [
  {
   "cell_type": "markdown",
   "metadata": {},
   "source": [
    "## 왜 크롤링이 필요한지 크롤링 준비 & 이미지 스크래핑 & 자연어처리"
   ]
  },
  {
   "cell_type": "markdown",
   "metadata": {},
   "source": [
    "- 이미지 스크래핑"
   ]
  },
  {
   "cell_type": "code",
   "execution_count": 7,
   "metadata": {},
   "outputs": [],
   "source": [
    "from bs4 import BeautifulSoup\n",
    "from urllib.request import urlopen\n",
    "from urllib.error import HTTPError\n",
    "from urllib.error import URLError\n",
    "import pandas as pd\n",
    "from urllib.parse import quote_plus"
   ]
  },
  {
   "cell_type": "code",
   "execution_count": 8,
   "metadata": {},
   "outputs": [
    {
     "name": "stdout",
     "output_type": "stream",
     "text": [
      "검색어 입력코로나\n",
      "스크랩 할 이미지 개수 : 50\n",
      "정상 작동 중~\n"
     ]
    }
   ],
   "source": [
    "base_url = 'https://search.naver.com/search.naver?where=image&sm=tab_jum&query='\n",
    "keyword = input('검색어 입력')\n",
    "imgCnt = int(input('스크랩 할 이미지 개수 : '))\n",
    "\n",
    "try:\n",
    "    url = base_url + quote_plus(keyword)\n",
    "    html = urlopen(url)\n",
    "except HTTPError as he : \n",
    "    print('http error')\n",
    "except URLError as ue : \n",
    "    print('url error')\n",
    "else :\n",
    "    print('정상 작동 중~')"
   ]
  },
  {
   "cell_type": "code",
   "execution_count": 9,
   "metadata": {},
   "outputs": [],
   "source": [
    "soup = BeautifulSoup(html.read(), 'html.parser' ,from_encoding = 'utf-8' )"
   ]
  },
  {
   "cell_type": "code",
   "execution_count": 41,
   "metadata": {},
   "outputs": [
    {
     "data": {
      "text/plain": [
       "<img alt=\"코로나19 팬데믹에 '코로나 맥주' 안 마실까? | 포스트\" class=\"_img\" data-height=\"483\" data-source=\"https://search.pstatic.net/common/?src=http%3A%2F%2Fpost.phinf.naver.net%2FMjAyMDA0MTNfMTgz%2FMDAxNTg2NzM1NzM0ODM4.petATgzOXbpnp4_S35joz2eVvLy26YX8yc59QxOp0P8g.f83p-xTOuvjclLd7wG6snCbueh7lrUFC855w8U3GWlQg.JPEG%2FIGthA5vkVP6vuDEzCQSnk3Ww3cJQ.jpg&amp;type=b400\" data-width=\"354\" onerror=\"var we=$Element(this); we.addClass('bg_nimg'); we.attr('alt','이미지준비중'); we.attr('src','data:image/gif;base64,R0lGODlhAQABAIAAAAAAAP///yH5BAEAAAAALAAAAAABAAEAAAIBRAA7');\" src=\"data:image/gif;base64,R0lGODlhAQABAIAAAAAAAP///yH5BAEAAAAALAAAAAABAAEAAAIBRAA7\"/>"
      ]
     },
     "execution_count": 41,
     "metadata": {},
     "output_type": "execute_result"
    }
   ],
   "source": [
    "img = soup.find_all('img', '_img')\n",
    "img[0]"
   ]
  },
  {
   "cell_type": "code",
   "execution_count": 42,
   "metadata": {
    "scrolled": true
   },
   "outputs": [
    {
     "name": "stdout",
     "output_type": "stream",
     "text": [
      "https://search.pstatic.net/common/?src=http%3A%2F%2Fpost.phinf.naver.net%2FMjAyMDA0MTNfMTgz%2FMDAxNTg2NzM1NzM0ODM4.petATgzOXbpnp4_S35joz2eVvLy26YX8yc59QxOp0P8g.f83p-xTOuvjclLd7wG6snCbueh7lrUFC855w8U3GWlQg.JPEG%2FIGthA5vkVP6vuDEzCQSnk3Ww3cJQ.jpg&type=b400\n"
     ]
    }
   ],
   "source": [
    "print(img[0]['data-source'])"
   ]
  },
  {
   "cell_type": "code",
   "execution_count": 43,
   "metadata": {},
   "outputs": [
    {
     "data": {
      "text/plain": [
       "<img alt=\"코로나19 팬데믹에 '코로나 맥주' 안 마실까? | 포스트\" class=\"_img\" data-height=\"483\" data-source=\"https://search.pstatic.net/common/?src=http%3A%2F%2Fpost.phinf.naver.net%2FMjAyMDA0MTNfMTgz%2FMDAxNTg2NzM1NzM0ODM4.petATgzOXbpnp4_S35joz2eVvLy26YX8yc59QxOp0P8g.f83p-xTOuvjclLd7wG6snCbueh7lrUFC855w8U3GWlQg.JPEG%2FIGthA5vkVP6vuDEzCQSnk3Ww3cJQ.jpg&amp;type=b400\" data-width=\"354\" onerror=\"var we=$Element(this); we.addClass('bg_nimg'); we.attr('alt','이미지준비중'); we.attr('src','data:image/gif;base64,R0lGODlhAQABAIAAAAAAAP///yH5BAEAAAAALAAAAAABAAEAAAIBRAA7');\" src=\"data:image/gif;base64,R0lGODlhAQABAIAAAAAAAP///yH5BAEAAAAALAAAAAABAAEAAAIBRAA7\"/>"
      ]
     },
     "execution_count": 43,
     "metadata": {},
     "output_type": "execute_result"
    }
   ],
   "source": [
    "img[0]"
   ]
  },
  {
   "cell_type": "code",
   "execution_count": 44,
   "metadata": {},
   "outputs": [
    {
     "name": "stdout",
     "output_type": "stream",
     "text": [
      "image download success\n"
     ]
    }
   ],
   "source": [
    "cnt = 1\n",
    "for i in  img :\n",
    "    imgUrl = i['data-source']\n",
    "    with urlopen(imgUrl) as file:\n",
    "        with open('./images/'+str(cnt)+'.jpg', 'wb') as imgFile : \n",
    "            img = file.read()\n",
    "            imgFile.write(img)\n",
    "    \n",
    "    cnt += 1\n",
    "    if cnt > imgCnt:\n",
    "        break\n",
    "        \n",
    "print('image download success')"
   ]
  },
  {
   "cell_type": "markdown",
   "metadata": {},
   "source": [
    "- 검색 키워드를 이용하여 원하는 제목과 링크만 가져오는 [실습]\n",
    "- csv 파일로 pandas의 DataFrame을 활용해서 저장해보자"
   ]
  },
  {
   "cell_type": "code",
   "execution_count": 51,
   "metadata": {},
   "outputs": [
    {
     "name": "stdout",
     "output_type": "stream",
     "text": [
      "검색어 입력파이썬\n",
      "스크랩 할 이미지 개수 : 20\n",
      "정상 작동 중~\n"
     ]
    }
   ],
   "source": [
    "base_url = 'https://search.naver.com/search.naver?where=post&sm=tab_jum&query='\n",
    "keyword = input('검색어 입력')\n",
    "imgCnt = int(input('스크랩 할 이미지 개수 : '))\n",
    "\n",
    "try:\n",
    "    url = base_url + quote_plus(keyword)\n",
    "    html = urlopen(url)\n",
    "except HTTPError as he : \n",
    "    print('http error')\n",
    "except URLError as ue : \n",
    "    print('url error')\n",
    "else :\n",
    "    print('정상 작동 중~')"
   ]
  },
  {
   "cell_type": "code",
   "execution_count": 52,
   "metadata": {},
   "outputs": [],
   "source": [
    "soup = BeautifulSoup(html.read(), 'html.parser', from_encoding = 'utf-8')"
   ]
  },
  {
   "cell_type": "code",
   "execution_count": 63,
   "metadata": {},
   "outputs": [
    {
     "data": {
      "text/plain": [
       "<a class=\"sh_blog_title _sp_each_url _sp_each_title\" href=\"https://blog.naver.com/nasu0210?Redirect=Log&amp;logNo=222105195536\" onclick=\"return goOtherCR(this, 'a=blg*i.tit&amp;r=1&amp;i=90000003_0000000000000033B6805410&amp;u='+urlencode(this.href))\" target=\"_blank\" title=\"파이썬 숫자 출력하기_하루 10분 혼공\"><strong class=\"hl\">파이썬</strong> 숫자 출력하기_하루 10분 혼공</a>"
      ]
     },
     "execution_count": 63,
     "metadata": {},
     "output_type": "execute_result"
    }
   ],
   "source": [
    "soup.find_all('a','sh_blog_title _sp_each_url _sp_each_title')[0]"
   ]
  },
  {
   "cell_type": "code",
   "execution_count": 61,
   "metadata": {},
   "outputs": [
    {
     "data": {
      "text/plain": [
       "'파이썬 숫자 출력하기_하루 10분 혼공'"
      ]
     },
     "execution_count": 61,
     "metadata": {},
     "output_type": "execute_result"
    }
   ],
   "source": [
    "soup.find_all('a','sh_blog_title _sp_each_url _sp_each_title')[0]['title']"
   ]
  },
  {
   "cell_type": "code",
   "execution_count": 75,
   "metadata": {},
   "outputs": [
    {
     "data": {
      "text/plain": [
       "'https://blog.naver.com/nasu0210?Redirect=Log&logNo=222105195536'"
      ]
     },
     "execution_count": 75,
     "metadata": {},
     "output_type": "execute_result"
    }
   ],
   "source": [
    "soup.find_all('a','sh_blog_title _sp_each_url _sp_each_title')[0].attrs['href']"
   ]
  },
  {
   "cell_type": "markdown",
   "metadata": {},
   "source": [
    "- 제목, 링크 가져와서\n",
    "- csv 파일 만들어보는 실습 (DataFrame)\n",
    "- csv 파일 읽어보는것 까지"
   ]
  },
  {
   "cell_type": "code",
   "execution_count": 67,
   "metadata": {},
   "outputs": [],
   "source": [
    "title = []\n",
    "link = []\n",
    "\n",
    "for i in range(0,len(soup.find_all('a','sh_blog_title _sp_each_url _sp_each_title'))):\n",
    "    title.append(soup.find_all('a','sh_blog_title _sp_each_url _sp_each_title')[i]['title'])\n",
    "    link.append(soup.find_all('a','sh_blog_title _sp_each_url _sp_each_title')[i]['href'])\n",
    "    "
   ]
  },
  {
   "cell_type": "code",
   "execution_count": 71,
   "metadata": {},
   "outputs": [],
   "source": [
    "import pandas as pd"
   ]
  },
  {
   "cell_type": "code",
   "execution_count": 73,
   "metadata": {},
   "outputs": [],
   "source": [
    "df = pd.DataFrame({'title':title, 'link':link})"
   ]
  },
  {
   "cell_type": "code",
   "execution_count": 76,
   "metadata": {},
   "outputs": [],
   "source": [
    "df.to_csv('./data/python.csv', index=False, encoding='euc-kr')"
   ]
  },
  {
   "cell_type": "code",
   "execution_count": 78,
   "metadata": {},
   "outputs": [
    {
     "data": {
      "text/html": [
       "<div>\n",
       "<style scoped>\n",
       "    .dataframe tbody tr th:only-of-type {\n",
       "        vertical-align: middle;\n",
       "    }\n",
       "\n",
       "    .dataframe tbody tr th {\n",
       "        vertical-align: top;\n",
       "    }\n",
       "\n",
       "    .dataframe thead th {\n",
       "        text-align: right;\n",
       "    }\n",
       "</style>\n",
       "<table border=\"1\" class=\"dataframe\">\n",
       "  <thead>\n",
       "    <tr style=\"text-align: right;\">\n",
       "      <th></th>\n",
       "      <th>title</th>\n",
       "      <th>link</th>\n",
       "    </tr>\n",
       "  </thead>\n",
       "  <tbody>\n",
       "    <tr>\n",
       "      <th>0</th>\n",
       "      <td>파이썬 숫자 출력하기_하루 10분 혼공</td>\n",
       "      <td>https://blog.naver.com/nasu0210?Redirect=Log&amp;l...</td>\n",
       "    </tr>\n",
       "    <tr>\n",
       "      <th>1</th>\n",
       "      <td>[Python] 파이썬이 인기있는 이유</td>\n",
       "      <td>https://blog.naver.com/dktmrorl?Redirect=Log&amp;l...</td>\n",
       "    </tr>\n",
       "    <tr>\n",
       "      <th>2</th>\n",
       "      <td>파이썬 웹 프로그래밍 Django로 입문</td>\n",
       "      <td>https://blog.naver.com/urmyver?Redirect=Log&amp;lo...</td>\n",
       "    </tr>\n",
       "    <tr>\n",
       "      <th>3</th>\n",
       "      <td>[P056] 파이썬의 정형화된 출력형식(Formatted Output of Python)</td>\n",
       "      <td>https://blog.naver.com/choi_s_h?Redirect=Log&amp;l...</td>\n",
       "    </tr>\n",
       "    <tr>\n",
       "      <th>4</th>\n",
       "      <td>알고리즘 트레이딩 - 파이썬을 활용한 금융 API 준비하는 방법은?</td>\n",
       "      <td>https://blog.naver.com/ridesafe?Redirect=Log&amp;l...</td>\n",
       "    </tr>\n",
       "    <tr>\n",
       "      <th>5</th>\n",
       "      <td>[아두이노 QnA] 파이썬으로 아두이노 제어하기_2</td>\n",
       "      <td>https://blog.naver.com/dokkosam?Redirect=Log&amp;l...</td>\n",
       "    </tr>\n",
       "    <tr>\n",
       "      <th>6</th>\n",
       "      <td>파이썬인강 프로그래밍 막막하셨다면</td>\n",
       "      <td>https://blog.naver.com/skyktc?Redirect=Log&amp;log...</td>\n",
       "    </tr>\n",
       "    <tr>\n",
       "      <th>7</th>\n",
       "      <td>[책 구매 / 리뷰] 파이썬 알고리즘 인터뷰</td>\n",
       "      <td>https://blog.naver.com/dsz08082?Redirect=Log&amp;l...</td>\n",
       "    </tr>\n",
       "    <tr>\n",
       "      <th>8</th>\n",
       "      <td>파이썬 인강 ☞ Python 기초 개념부터 배우기 초보자 특별 강좌</td>\n",
       "      <td>https://blog.naver.com/beta700?Redirect=Log&amp;lo...</td>\n",
       "    </tr>\n",
       "    <tr>\n",
       "      <th>9</th>\n",
       "      <td>파이썬독학 충분히 쉽다는 책</td>\n",
       "      <td>https://blog.naver.com/gogwangjin?Redirect=Log...</td>\n",
       "    </tr>\n",
       "  </tbody>\n",
       "</table>\n",
       "</div>"
      ],
      "text/plain": [
       "                                               title  \\\n",
       "0                              파이썬 숫자 출력하기_하루 10분 혼공   \n",
       "1                              [Python] 파이썬이 인기있는 이유   \n",
       "2                             파이썬 웹 프로그래밍 Django로 입문   \n",
       "3  [P056] 파이썬의 정형화된 출력형식(Formatted Output of Python)   \n",
       "4              알고리즘 트레이딩 - 파이썬을 활용한 금융 API 준비하는 방법은?   \n",
       "5                       [아두이노 QnA] 파이썬으로 아두이노 제어하기_2   \n",
       "6                                 파이썬인강 프로그래밍 막막하셨다면   \n",
       "7                           [책 구매 / 리뷰] 파이썬 알고리즘 인터뷰   \n",
       "8              파이썬 인강 ☞ Python 기초 개념부터 배우기 초보자 특별 강좌   \n",
       "9                                    파이썬독학 충분히 쉽다는 책   \n",
       "\n",
       "                                                link  \n",
       "0  https://blog.naver.com/nasu0210?Redirect=Log&l...  \n",
       "1  https://blog.naver.com/dktmrorl?Redirect=Log&l...  \n",
       "2  https://blog.naver.com/urmyver?Redirect=Log&lo...  \n",
       "3  https://blog.naver.com/choi_s_h?Redirect=Log&l...  \n",
       "4  https://blog.naver.com/ridesafe?Redirect=Log&l...  \n",
       "5  https://blog.naver.com/dokkosam?Redirect=Log&l...  \n",
       "6  https://blog.naver.com/skyktc?Redirect=Log&log...  \n",
       "7  https://blog.naver.com/dsz08082?Redirect=Log&l...  \n",
       "8  https://blog.naver.com/beta700?Redirect=Log&lo...  \n",
       "9  https://blog.naver.com/gogwangjin?Redirect=Log...  "
      ]
     },
     "execution_count": 78,
     "metadata": {},
     "output_type": "execute_result"
    }
   ],
   "source": [
    "pd.read_csv('./data/python.csv', encoding = 'euc-kr')"
   ]
  },
  {
   "cell_type": "code",
   "execution_count": null,
   "metadata": {},
   "outputs": [],
   "source": []
  },
  {
   "cell_type": "markdown",
   "metadata": {},
   "source": [
    "# 크롤링을 통한 페이지 처리 방법 익히기\n",
    "- 크롤러"
   ]
  },
  {
   "cell_type": "code",
   "execution_count": 79,
   "metadata": {},
   "outputs": [],
   "source": [
    "from time import sleep\n",
    "from random import randint\n",
    "import pandas as pd\n",
    "from IPython.core.display import clear_output\n",
    "from time import time\n",
    "from bs4 import BeautifulSoup\n",
    "from requests import get"
   ]
  },
  {
   "cell_type": "markdown",
   "metadata": {},
   "source": [
    "## ======================"
   ]
  },
  {
   "cell_type": "markdown",
   "metadata": {},
   "source": [
    "- loop 사이에 잘 진행되고 있는 지를 보기 위한 indicator sentence"
   ]
  },
  {
   "cell_type": "code",
   "execution_count": 99,
   "metadata": {},
   "outputs": [],
   "source": [
    "start_time = time()"
   ]
  },
  {
   "cell_type": "markdown",
   "metadata": {},
   "source": [
    "- start_time"
   ]
  },
  {
   "cell_type": "code",
   "execution_count": 103,
   "metadata": {},
   "outputs": [
    {
     "name": "stdout",
     "output_type": "stream",
     "text": [
      "request : 1, frequency : 6.242052860679851e-10\n",
      "request : 2, frequency : 1.2484105721359703e-09\n",
      "request : 3, frequency : 1.8726158582039554e-09\n",
      "request : 4, frequency : 2.4968211442719405e-09\n",
      "request : 5, frequency : 3.1210264303399257e-09\n"
     ]
    }
   ],
   "source": [
    "requests = 0\n",
    "for _ in range(5):\n",
    "    requests += 1\n",
    "    sleep(randint(1,3))\n",
    "    current_time = time()\n",
    "    elapsed_time = current_time = start_time\n",
    "    print('request : {}, frequency : {}'.format(requests, requests/elapsed_time))\n",
    "    #clear_output(wait=True) # 결과가 한줄로만 나옴"
   ]
  },
  {
   "cell_type": "markdown",
   "metadata": {},
   "source": [
    "## ======================"
   ]
  },
  {
   "cell_type": "code",
   "execution_count": null,
   "metadata": {},
   "outputs": [],
   "source": [
    "base_url = 'https://search.naver.com/search.naver?where=post&sm=tab_jum&query='\n",
    "keyword = input('검색어 입력')\n",
    "imgCnt = int(input('스크랩 할 이미지 개수 : '))\n",
    "\n",
    "try:\n",
    "    url = base_url + quote_plus(keyword)\n",
    "    html = urlopen(url)\n",
    "except HTTPError as he : \n",
    "    print('http error')\n",
    "except URLError as ue : \n",
    "    print('url error')\n",
    "else :\n",
    "    print('정상 작동 중~')\n",
    "\n",
    "soup = BeautifulSoup(html.read(), 'html.parser', from_encoding = 'utf-8')"
   ]
  },
  {
   "cell_type": "code",
   "execution_count": 104,
   "metadata": {},
   "outputs": [],
   "source": [
    "titles = soup.find_all('a', {'class':'sh_blog_title'})"
   ]
  },
  {
   "cell_type": "code",
   "execution_count": 113,
   "metadata": {},
   "outputs": [
    {
     "data": {
      "text/plain": [
       "['1', '2', '3', '4', '5', '6', '7', '8', '9', '10']"
      ]
     },
     "execution_count": 113,
     "metadata": {},
     "output_type": "execute_result"
    }
   ],
   "source": [
    "pages = [ str(i) for i in range(1,11)]\n",
    "pages"
   ]
  },
  {
   "cell_type": "markdown",
   "metadata": {},
   "source": [
    "- title, link, price 가져오기"
   ]
  },
  {
   "cell_type": "code",
   "execution_count": 122,
   "metadata": {},
   "outputs": [],
   "source": [
    "start_time = time()\n",
    "requests = 0\n",
    "title = []\n",
    "link = []\n",
    "price = []\n",
    "for page in pages:\n",
    "    requests += 1\n",
    "    url = get('https://search.shopping.naver.com/search/all?frm=NVSHATC&origQuery=%ED%8C%8C%EC%9D%B4%EC%8D%AC&pagingIndex='+ page +'&pagingSize=40&productSet=total&query=%ED%8C%8C%EC%9D%B4%EC%8D%AC&sort=rel&timestamp=&viewType=list')\n",
    "    sleep(randint(1,3))\n",
    "    current_time = time()\n",
    "    elapsed_time = current_time - start_time\n",
    "    soup = BeautifulSoup(url.text, 'html.parser')\n",
    "    item = soup.find_all('a','basicList_link__1MaTN')\n",
    "    for i in range(0,len(item)):\n",
    "        title.append(item[i]['title'])\n",
    "        link.append(item[i]['href'])\n",
    "        price.append(soup.find_all('span','price_num__2WUXn')[i].string)"
   ]
  },
  {
   "cell_type": "code",
   "execution_count": 121,
   "metadata": {},
   "outputs": [
    {
     "data": {
      "text/plain": [
       "'22,180원'"
      ]
     },
     "execution_count": 121,
     "metadata": {},
     "output_type": "execute_result"
    }
   ],
   "source": [
    "soup.find_all('span','price_num__2WUXn')[0].string"
   ]
  },
  {
   "cell_type": "code",
   "execution_count": 130,
   "metadata": {},
   "outputs": [
    {
     "data": {
      "text/html": [
       "<div>\n",
       "<style scoped>\n",
       "    .dataframe tbody tr th:only-of-type {\n",
       "        vertical-align: middle;\n",
       "    }\n",
       "\n",
       "    .dataframe tbody tr th {\n",
       "        vertical-align: top;\n",
       "    }\n",
       "\n",
       "    .dataframe thead th {\n",
       "        text-align: right;\n",
       "    }\n",
       "</style>\n",
       "<table border=\"1\" class=\"dataframe\">\n",
       "  <thead>\n",
       "    <tr style=\"text-align: right;\">\n",
       "      <th></th>\n",
       "      <th>title</th>\n",
       "      <th>link</th>\n",
       "      <th>price</th>\n",
       "    </tr>\n",
       "  </thead>\n",
       "  <tbody>\n",
       "    <tr>\n",
       "      <th>0</th>\n",
       "      <td>글렌다블룸 리얼 파이톤 미니 보스톤백</td>\n",
       "      <td>https://cr.shopping.naver.com/adcr.nhn?x=HlFBo...</td>\n",
       "      <td>136,520원</td>\n",
       "    </tr>\n",
       "    <tr>\n",
       "      <th>1</th>\n",
       "      <td>잘모이 Limited Edition 리얼 파이톤 모니카 플랩백 클러치백</td>\n",
       "      <td>https://cr.shopping.naver.com/adcr.nhn?x=WDQP5...</td>\n",
       "      <td>192,400원</td>\n",
       "    </tr>\n",
       "    <tr>\n",
       "      <th>2</th>\n",
       "      <td>잘모이 리얼 파이톤 리젤라 스니커즈 SZ-1930</td>\n",
       "      <td>https://cr.shopping.naver.com/adcr.nhn?x=3KPhB...</td>\n",
       "      <td>41,900원</td>\n",
       "    </tr>\n",
       "    <tr>\n",
       "      <th>3</th>\n",
       "      <td>여성가방 뱀피쇼퍼백 파이톤 숄더백 가벼운가방 A8570</td>\n",
       "      <td>https://cr.shopping.naver.com/adcr.nhn?x=xmSfP...</td>\n",
       "      <td>19,690원</td>\n",
       "    </tr>\n",
       "    <tr>\n",
       "      <th>4</th>\n",
       "      <td>레트로 엔틱 체인 바게트 숄더 미니 백</td>\n",
       "      <td>https://cr.shopping.naver.com/adcr.nhn?x=XVvb6...</td>\n",
       "      <td>24,800원</td>\n",
       "    </tr>\n",
       "  </tbody>\n",
       "</table>\n",
       "</div>"
      ],
      "text/plain": [
       "                                     title  \\\n",
       "0                     글렌다블룸 리얼 파이톤 미니 보스톤백   \n",
       "1  잘모이 Limited Edition 리얼 파이톤 모니카 플랩백 클러치백   \n",
       "2              잘모이 리얼 파이톤 리젤라 스니커즈 SZ-1930   \n",
       "3           여성가방 뱀피쇼퍼백 파이톤 숄더백 가벼운가방 A8570   \n",
       "4                    레트로 엔틱 체인 바게트 숄더 미니 백   \n",
       "\n",
       "                                                link     price  \n",
       "0  https://cr.shopping.naver.com/adcr.nhn?x=HlFBo...  136,520원  \n",
       "1  https://cr.shopping.naver.com/adcr.nhn?x=WDQP5...  192,400원  \n",
       "2  https://cr.shopping.naver.com/adcr.nhn?x=3KPhB...   41,900원  \n",
       "3  https://cr.shopping.naver.com/adcr.nhn?x=xmSfP...   19,690원  \n",
       "4  https://cr.shopping.naver.com/adcr.nhn?x=XVvb6...   24,800원  "
      ]
     },
     "execution_count": 130,
     "metadata": {},
     "output_type": "execute_result"
    }
   ],
   "source": [
    "df = pd.DataFrame({'title':title, 'link':link, 'price':price})\n",
    "df.head()"
   ]
  },
  {
   "cell_type": "code",
   "execution_count": null,
   "metadata": {},
   "outputs": [],
   "source": []
  },
  {
   "cell_type": "code",
   "execution_count": null,
   "metadata": {},
   "outputs": [],
   "source": []
  },
  {
   "cell_type": "code",
   "execution_count": null,
   "metadata": {},
   "outputs": [],
   "source": []
  },
  {
   "cell_type": "code",
   "execution_count": null,
   "metadata": {},
   "outputs": [],
   "source": []
  },
  {
   "cell_type": "code",
   "execution_count": null,
   "metadata": {},
   "outputs": [],
   "source": []
  },
  {
   "cell_type": "code",
   "execution_count": null,
   "metadata": {},
   "outputs": [],
   "source": []
  },
  {
   "cell_type": "code",
   "execution_count": null,
   "metadata": {},
   "outputs": [],
   "source": []
  },
  {
   "cell_type": "code",
   "execution_count": null,
   "metadata": {},
   "outputs": [],
   "source": []
  },
  {
   "cell_type": "code",
   "execution_count": null,
   "metadata": {},
   "outputs": [],
   "source": []
  },
  {
   "cell_type": "code",
   "execution_count": null,
   "metadata": {},
   "outputs": [],
   "source": []
  },
  {
   "cell_type": "code",
   "execution_count": null,
   "metadata": {},
   "outputs": [],
   "source": []
  },
  {
   "cell_type": "code",
   "execution_count": null,
   "metadata": {},
   "outputs": [],
   "source": []
  },
  {
   "cell_type": "code",
   "execution_count": null,
   "metadata": {},
   "outputs": [],
   "source": []
  },
  {
   "cell_type": "code",
   "execution_count": null,
   "metadata": {},
   "outputs": [],
   "source": []
  },
  {
   "cell_type": "code",
   "execution_count": null,
   "metadata": {},
   "outputs": [],
   "source": []
  },
  {
   "cell_type": "code",
   "execution_count": null,
   "metadata": {},
   "outputs": [],
   "source": []
  },
  {
   "cell_type": "code",
   "execution_count": null,
   "metadata": {},
   "outputs": [],
   "source": []
  },
  {
   "cell_type": "code",
   "execution_count": null,
   "metadata": {},
   "outputs": [],
   "source": []
  },
  {
   "cell_type": "code",
   "execution_count": null,
   "metadata": {},
   "outputs": [],
   "source": []
  },
  {
   "cell_type": "code",
   "execution_count": null,
   "metadata": {},
   "outputs": [],
   "source": []
  },
  {
   "cell_type": "code",
   "execution_count": null,
   "metadata": {},
   "outputs": [],
   "source": []
  },
  {
   "cell_type": "code",
   "execution_count": null,
   "metadata": {},
   "outputs": [],
   "source": []
  },
  {
   "cell_type": "code",
   "execution_count": null,
   "metadata": {},
   "outputs": [],
   "source": []
  },
  {
   "cell_type": "code",
   "execution_count": null,
   "metadata": {},
   "outputs": [],
   "source": []
  },
  {
   "cell_type": "code",
   "execution_count": null,
   "metadata": {},
   "outputs": [],
   "source": []
  },
  {
   "cell_type": "code",
   "execution_count": null,
   "metadata": {},
   "outputs": [],
   "source": []
  },
  {
   "cell_type": "code",
   "execution_count": null,
   "metadata": {},
   "outputs": [],
   "source": []
  },
  {
   "cell_type": "code",
   "execution_count": null,
   "metadata": {},
   "outputs": [],
   "source": []
  },
  {
   "cell_type": "code",
   "execution_count": null,
   "metadata": {},
   "outputs": [],
   "source": []
  },
  {
   "cell_type": "code",
   "execution_count": null,
   "metadata": {},
   "outputs": [],
   "source": []
  },
  {
   "cell_type": "code",
   "execution_count": null,
   "metadata": {},
   "outputs": [],
   "source": []
  }
 ],
 "metadata": {
  "kernelspec": {
   "display_name": "Python 3",
   "language": "python",
   "name": "python3"
  },
  "language_info": {
   "codemirror_mode": {
    "name": "ipython",
    "version": 3
   },
   "file_extension": ".py",
   "mimetype": "text/x-python",
   "name": "python",
   "nbconvert_exporter": "python",
   "pygments_lexer": "ipython3",
   "version": "3.7.6"
  }
 },
 "nbformat": 4,
 "nbformat_minor": 4
}
